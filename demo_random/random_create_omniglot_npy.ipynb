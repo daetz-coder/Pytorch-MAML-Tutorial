{
 "cells": [
  {
   "cell_type": "code",
   "execution_count": 2,
   "id": "b37061a6-8bbc-48c8-86e2-a929f5193000",
   "metadata": {},
   "outputs": [
    {
     "data": {
      "text/plain": [
       "'./data/omniglot.npy'"
      ]
     },
     "execution_count": 2,
     "metadata": {},
     "output_type": "execute_result"
    }
   ],
   "source": [
    "import numpy as np\n",
    "import os\n",
    "\n",
    "# 定义 Omniglot 数据集的尺寸参数\n",
    "num_classes = 1623  # 总类别数\n",
    "samples_per_class = 20  # 每个类别的样本数\n",
    "img_height, img_width = 28, 28  # 图像尺寸\n",
    "\n",
    "# 随机生成数据\n",
    "omniglot_data = np.random.randint(0, 256, size=(num_classes, samples_per_class, 1, img_height, img_width), dtype=np.uint8)\n",
    "\n",
    "# 保存路径\n",
    "save_path = './data/omniglot.npy'\n",
    "\n",
    "# 保存数据\n",
    "np.save(save_path, omniglot_data)\n",
    "\n",
    "save_path"
   ]
  },
  {
   "cell_type": "code",
   "execution_count": 5,
   "id": "33ebae00-28ee-41b5-8d6e-d2717dfd5bb1",
   "metadata": {},
   "outputs": [
    {
     "name": "stdout",
     "output_type": "stream",
     "text": [
      "The memory size of the data is: 25448640 bytes\n",
      "The memory size of the data is: 24.26971435546875 MB\n"
     ]
    }
   ],
   "source": [
    "import numpy as np\n",
    "\n",
    "# 加载数据\n",
    "data_path = './data/omniglot.npy'\n",
    "data = np.load(data_path)\n",
    "\n",
    "# 获取数据占用的内存大小，单位为字节\n",
    "memory_size_bytes = data.nbytes\n",
    "memory_size_mb = memory_size_bytes / (1024**2)\n",
    "\n",
    "print(f\"The memory size of the data is: {memory_size_bytes} bytes\")\n",
    "print(f\"The memory size of the data is: {memory_size_mb} MB\")\n"
   ]
  },
  {
   "cell_type": "code",
   "execution_count": null,
   "id": "afe4bf8f-4740-4f32-a82e-0ddc28c72929",
   "metadata": {},
   "outputs": [],
   "source": []
  }
 ],
 "metadata": {
  "kernelspec": {
   "display_name": "Python 3 (ipykernel)",
   "language": "python",
   "name": "python3"
  },
  "language_info": {
   "codemirror_mode": {
    "name": "ipython",
    "version": 3
   },
   "file_extension": ".py",
   "mimetype": "text/x-python",
   "name": "python",
   "nbconvert_exporter": "python",
   "pygments_lexer": "ipython3",
   "version": "3.8.10"
  }
 },
 "nbformat": 4,
 "nbformat_minor": 5
}
